{
  "nbformat": 4,
  "nbformat_minor": 0,
  "metadata": {
    "colab": {
      "private_outputs": true,
      "provenance": [],
      "include_colab_link": true
    },
    "kernelspec": {
      "name": "python3",
      "display_name": "Python 3"
    },
    "language_info": {
      "name": "python"
    }
  },
  "cells": [
    {
      "cell_type": "markdown",
      "metadata": {
        "id": "view-in-github",
        "colab_type": "text"
      },
      "source": [
        "<a href=\"https://colab.research.google.com/github/jsmsscd/3d-bioprinter/blob/main/Univ_Recomendation_System.ipynb\" target=\"_parent\"><img src=\"https://colab.research.google.com/assets/colab-badge.svg\" alt=\"Open In Colab\"/></a>"
      ]
    },
    {
      "cell_type": "markdown",
      "source": [
        "Import required Libraries"
      ],
      "metadata": {
        "id": "Z3s9dAdqNp1S"
      }
    },
    {
      "cell_type": "markdown",
      "source": [
        "# New Section"
      ],
      "metadata": {
        "id": "43xAzNQvKpp8"
      }
    },
    {
      "cell_type": "code",
      "execution_count": null,
      "metadata": {
        "id": "SHTlZKsUNi_7"
      },
      "outputs": [],
      "source": [
        "import pandas as pd\n",
        "import requests\n",
        "import numpy as np\n",
        "import seaborn as sns\n",
        "import matplotlib.pyplot as plt\n",
        "from bs4 import BeautifulSoup\n"
      ]
    },
    {
      "cell_type": "code",
      "source": [
        "from google.colab import drive\n",
        "drive.mount('/content/drive')"
      ],
      "metadata": {
        "id": "5fdlKIr4L5W9"
      },
      "execution_count": null,
      "outputs": []
    },
    {
      "cell_type": "code",
      "source": [
        "df=pd.read_excel(\"/content/drive/MyDrive/Directory of Institution - University 1604202302451437PM.xlsx\")\n",
        "#df = pd.read_csv('https://aishe.gov.in/aishe/collegeDirectoryIndex?hasReportLink=index')\n",
        "df.head()"
      ],
      "metadata": {
        "id": "uEQw0FdZYUPG"
      },
      "execution_count": null,
      "outputs": []
    },
    {
      "cell_type": "markdown",
      "source": [
        "EDa on Data"
      ],
      "metadata": {
        "id": "6dKCf5CFacIO"
      }
    },
    {
      "cell_type": "code",
      "source": [
        "print(df.shape)\n",
        "print(df.describe())\n",
        "print(df.info())"
      ],
      "metadata": {
        "id": "Utn0DnosabNN"
      },
      "execution_count": null,
      "outputs": []
    },
    {
      "cell_type": "code",
      "source": [
        "print(df.isnull().sum())"
      ],
      "metadata": {
        "id": "NUGn5wFfaIEO"
      },
      "execution_count": null,
      "outputs": []
    },
    {
      "cell_type": "code",
      "source": [
        "if len(df[df.duplicated()]) > 0:\n",
        "    print(\"No. of duplicated entries: \", len(df[df.duplicated()]))\n",
        "    print(df[df.duplicated(keep=False)].sort_values(by=list(df.columns)).head())\n",
        "else:\n",
        "    print(\"No duplicated entries found\")"
      ],
      "metadata": {
        "id": "Z8SQxkxmdjhz"
      },
      "execution_count": null,
      "outputs": []
    },
    {
      "cell_type": "markdown",
      "source": [
        "Imputation"
      ],
      "metadata": {
        "id": "4bGBEuuo17kw"
      }
    },
    {
      "cell_type": "code",
      "source": [
        "df['Location'].mode()[0]"
      ],
      "metadata": {
        "id": "NebVjVaB6JOF"
      },
      "execution_count": null,
      "outputs": []
    },
    {
      "cell_type": "code",
      "source": [
        "\n",
        "df['Location'].fillna(df['Location'].mode()[0],inplace=True)\n",
        "df['Year When Decalred University'].fillna(df['Year When Decalred University'].mode()[0],inplace=True)\n",
        "df['Specialised in'].fillna(df['Specialised in'].mode()[0],inplace=True)\n",
        "print(df.isnull().sum())\n"
      ],
      "metadata": {
        "id": "vHlbNN5A5ip3"
      },
      "execution_count": null,
      "outputs": []
    },
    {
      "cell_type": "code",
      "source": [
        "#df[‘Age’].fillna(train[‘Age’].mode(), inplace = True)\n",
        "#df[‘Embarked’].fillna(train[‘Embarked’].mode(), inplace = True)\n",
        "\n",
        "df.fillna(0,inplace=True)\n",
        "print(df.isnull().sum())\n",
        "print(df.shape)"
      ],
      "metadata": {
        "id": "6j40NsMhiwmA"
      },
      "execution_count": null,
      "outputs": []
    },
    {
      "cell_type": "code",
      "source": [
        "df.drop_duplicates(inplace=True)\n",
        "df.duplicated().sum()"
      ],
      "metadata": {
        "id": "usQ7niJaKIWl"
      },
      "execution_count": null,
      "outputs": []
    },
    {
      "cell_type": "code",
      "source": [
        "for col in df.select_dtypes(include='object').columns:\n",
        "  fig=sns.catplot(x=col, kind=\"count\", data=df)\n",
        "  fig.set_xticklabels(rotation=90)\n",
        "  plt.show()"
      ],
      "metadata": {
        "id": "kh01Ao2Fd5fU"
      },
      "execution_count": null,
      "outputs": []
    },
    {
      "cell_type": "code",
      "source": [
        "df.info()"
      ],
      "metadata": {
        "id": "EYzSTbF3DcFA"
      },
      "execution_count": null,
      "outputs": []
    },
    {
      "cell_type": "markdown",
      "source": [
        "Popularaity based recomendation system"
      ],
      "metadata": {
        "id": "tSBu2SdrBlIA"
      }
    },
    {
      "cell_type": "markdown",
      "source": [
        "Based on Institutes added in survey year ,the istitute which is added first is old and a transperent institue.\n",
        "  "
      ],
      "metadata": {
        "id": "uYbyi9-jCifq"
      }
    },
    {
      "cell_type": "code",
      "source": [
        "numratingdf=df.groupby('University Name').count()['The Institute Added In Survey Year'].reset_index()\n",
        "numratingdf.rename(columns={'The Institute Added In Survey Year':'Number of times University added for survey'},inplace=True)\n",
        "numratingdf"
      ],
      "metadata": {
        "id": "4HCf3NerTykG"
      },
      "execution_count": null,
      "outputs": []
    },
    {
      "cell_type": "code",
      "source": [
        "avgratingdf=df.groupby('University Name').mean()['The Institute Added In Survey Year'].reset_index()\n",
        "avgratingdf.rename(columns={'The Institute Added In Survey Year':'Avg Rating'},inplace=True)\n",
        "avgratingdf"
      ],
      "metadata": {
        "id": "-gf_nn7_D4XN"
      },
      "execution_count": null,
      "outputs": []
    },
    {
      "cell_type": "code",
      "source": [
        "popularity_df=numratingdf.merge(avgratingdf,on=\"University Name\")\n",
        "popularity_df"
      ],
      "metadata": {
        "id": "5FRgj-VyPKY9"
      },
      "execution_count": null,
      "outputs": []
    },
    {
      "cell_type": "code",
      "source": [
        "popularity_df[popularity_df[\"Avg Rating\"]>2020].sort_values('Avg Rating',ascending=False).head(50)"
      ],
      "metadata": {
        "id": "JyNfxvOwPrdE"
      },
      "execution_count": null,
      "outputs": []
    },
    {
      "cell_type": "markdown",
      "source": [],
      "metadata": {
        "id": "HVm40JGC0z9X"
      }
    },
    {
      "cell_type": "markdown",
      "source": [
        "Collaborative filtering based Recomendation System"
      ],
      "metadata": {
        "id": "W_b9WFIu1TN3"
      }
    },
    {
      "cell_type": "code",
      "source": [
        "df.info()"
      ],
      "metadata": {
        "id": "nsr1X0FjQRXa"
      },
      "execution_count": null,
      "outputs": []
    },
    {
      "cell_type": "code",
      "source": [
        "rankdf=pd.read_excel(\"/content/drive/MyDrive/Univ ranking NIRF.xlsx\")\n",
        "rankdf.head(10)"
      ],
      "metadata": {
        "id": "qYY50nqv1Ith"
      },
      "execution_count": null,
      "outputs": []
    },
    {
      "cell_type": "code",
      "source": [
        "print(rankdf.info())\n"
      ],
      "metadata": {
        "id": "GHLSjRXj6Ezu"
      },
      "execution_count": null,
      "outputs": []
    },
    {
      "cell_type": "code",
      "source": [
        "rankdf.rename(columns={\"Name\":\"University Name\"},inplace=True)\n",
        "rankdf.head()"
      ],
      "metadata": {
        "id": "S2arxzlHBGra"
      },
      "execution_count": null,
      "outputs": []
    },
    {
      "cell_type": "code",
      "source": [
        "rankdf.shape"
      ],
      "metadata": {
        "id": "-a-M-APzJ_l-"
      },
      "execution_count": null,
      "outputs": []
    },
    {
      "cell_type": "code",
      "source": [
        "univwithrankdf=df.merge(rankdf,on=\"University Name\")\n",
        "univwithrankdf.head()"
      ],
      "metadata": {
        "id": "8gFLjxquCa10"
      },
      "execution_count": null,
      "outputs": []
    },
    {
      "cell_type": "markdown",
      "source": [
        "We are not getting any record common in rankdf (univ details from NIRF ) and  df(Univ list from AISHE ) thats whay univwithrankdf is blank so we are going to add ranking feature in df(Univ list from AISHE )"
      ],
      "metadata": {
        "id": "rzEfHH44wc-c"
      }
    },
    {
      "cell_type": "markdown",
      "source": [
        "Feature Engineering"
      ],
      "metadata": {
        "id": "bchCsw4OxXDv"
      }
    },
    {
      "cell_type": "code",
      "source": [
        "df.head()"
      ],
      "metadata": {
        "id": "0HNg7FHBCyas"
      },
      "execution_count": null,
      "outputs": []
    },
    {
      "cell_type": "code",
      "source": [
        "df['Rating']=df[\"The Institute Added In Survey Year\"] -df[\"Year When Decalred University\"]\n",
        "df.head()"
      ],
      "metadata": {
        "id": "iBS4GgyXG7xb"
      },
      "execution_count": null,
      "outputs": []
    },
    {
      "cell_type": "code",
      "source": [
        "df['Rating']+= df.apply(lambda x: 1 if x.Location == 'Urban' else 0.5, axis=1) \n",
        "df.head()"
      ],
      "metadata": {
        "id": "Lj8n47IxzBAK"
      },
      "execution_count": null,
      "outputs": []
    },
    {
      "cell_type": "markdown",
      "source": [],
      "metadata": {
        "id": "O2x3UtvR3iIl"
      }
    },
    {
      "cell_type": "markdown",
      "source": [
        "The univerity with lowes rating vlaue is the best one because as fast university added in survey is the univ which gain name in samll span of time thats whay it is added in survey as well as Urban univ can provide much better facilaties as compared to rural univs so thats why .5 is added in rating feature for rural and 1 for urban univs. "
      ],
      "metadata": {
        "id": "pEZqelXk2Yge"
      }
    },
    {
      "cell_type": "markdown",
      "source": [
        "Colaborative Filtering based Recomendation System"
      ],
      "metadata": {
        "id": "nyU9FLUy3nh1"
      }
    },
    {
      "cell_type": "code",
      "source": [
        "sd=df.groupby(['State','District']).count()['Rating']\n",
        "sd"
      ],
      "metadata": {
        "id": "IJ56KNvp0YF7"
      },
      "execution_count": null,
      "outputs": []
    },
    {
      "cell_type": "markdown",
      "source": [
        "Only those university which are added for survey in less than 5 years"
      ],
      "metadata": {
        "id": "1lIUvs52-QKS"
      }
    },
    {
      "cell_type": "code",
      "source": [
        "x=df.groupby('University Name').count()['Rating']<3\n",
        "x[x]"
      ],
      "metadata": {
        "id": "S0A43DOO7wS-"
      },
      "execution_count": null,
      "outputs": []
    },
    {
      "cell_type": "code",
      "source": [
        "filtered_univ=x[x].index\n",
        "filtered_univ"
      ],
      "metadata": {
        "id": "nxELVnaz9Wjh"
      },
      "execution_count": null,
      "outputs": []
    },
    {
      "cell_type": "code",
      "source": [
        "\n",
        "final_df=df[df['University Name'].isin(filtered_univ)]\n",
        "final_df"
      ],
      "metadata": {
        "id": "tnWzojJt92P0"
      },
      "execution_count": null,
      "outputs": []
    },
    {
      "cell_type": "code",
      "source": [
        "pt=final_df.pivot_table(index='University Name',columns=['State','District'],values='Rating')"
      ],
      "metadata": {
        "id": "8NkZ_uzp-8A8"
      },
      "execution_count": null,
      "outputs": []
    },
    {
      "cell_type": "code",
      "source": [
        "pt.shape"
      ],
      "metadata": {
        "id": "9j5wia0ZAjf_"
      },
      "execution_count": null,
      "outputs": []
    },
    {
      "cell_type": "code",
      "source": [
        "pt.fillna(0,inplace=True)"
      ],
      "metadata": {
        "id": "eR5aRMU4BFPV"
      },
      "execution_count": null,
      "outputs": []
    },
    {
      "cell_type": "code",
      "source": [
        "pt"
      ],
      "metadata": {
        "id": "_E91LwLpBNM7"
      },
      "execution_count": null,
      "outputs": []
    },
    {
      "cell_type": "markdown",
      "source": [
        "The data is in piviot table fromat \n",
        "Every univ can be represeted as a vector in the from of 319 dismensional space \n",
        "Now find similar vectors for this  we find eucledian distance of every vector with each other vector and based on distance we can find out similarity of univ"
      ],
      "metadata": {
        "id": "qOKar2WdCHf3"
      }
    },
    {
      "cell_type": "code",
      "source": [
        "from sklearn.metrics.pairwise import cosine_similarity"
      ],
      "metadata": {
        "id": "jeLpk3ywBZtD"
      },
      "execution_count": null,
      "outputs": []
    },
    {
      "cell_type": "code",
      "source": [
        "similarity_scores=cosine_similarity(pt)"
      ],
      "metadata": {
        "id": "hENFtHodBOq5"
      },
      "execution_count": null,
      "outputs": []
    },
    {
      "cell_type": "code",
      "source": [
        "similarity_scores[1]"
      ],
      "metadata": {
        "id": "u5wTTvhKCuOJ"
      },
      "execution_count": null,
      "outputs": []
    },
    {
      "cell_type": "markdown",
      "source": [
        "this is similarity score of first univ with other 318 univs\n"
      ],
      "metadata": {
        "id": "-j49s3MLDG65"
      }
    },
    {
      "cell_type": "code",
      "source": [
        "from pandas.io.pytables import Index\n",
        "def recommender(univ_name):\n",
        "  #fetch index from univ name\n",
        "  index=np.where(pt.index==univ_name)[0][0]\n",
        "  print(index)\n",
        "  # in similarity scores find the most similar items\n",
        "  similar_items=sorted(list(enumerate(similarity_scores[index])),key=lambda x:x[1],reverse=True)[1:6]   \n",
        "  for i in similar_items:\n",
        "    print(pt.index[i[0]])\n",
        " "
      ],
      "metadata": {
        "id": "RIyTSfjFDBGo"
      },
      "execution_count": null,
      "outputs": []
    },
    {
      "cell_type": "code",
      "source": [
        "recommender('Jawaharlal Nehru Technological University, Anantapur (Id: U-0016)')\n"
      ],
      "metadata": {
        "id": "r9ueI-fuDuJo"
      },
      "execution_count": null,
      "outputs": []
    },
    {
      "cell_type": "code",
      "source": [],
      "metadata": {
        "id": "1E0-oH6UI6j8"
      },
      "execution_count": null,
      "outputs": []
    }
  ]
}